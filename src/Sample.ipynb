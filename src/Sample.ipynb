{
 "cells": [
  {
   "cell_type": "code",
   "execution_count": 122,
   "id": "92dce489",
   "metadata": {
    "ExecuteTime": {
     "end_time": "2021-04-16T07:26:31.273620Z",
     "start_time": "2021-04-16T07:26:30.992989Z"
    },
    "scrolled": true
   },
   "outputs": [
    {
     "name": "stdout",
     "output_type": "stream",
     "text": [
      "==> ../data/dic/test.dic.en <==\r\n",
      "\"Fugen Power Plant\"\r\n",
      "DERS software\r\n",
      "dose rate\r\n",
      "\r\n",
      "dose rate\r\n",
      "\r\n",
      "==> ../data/dic/test.dic.ja <==\r\n",
      "線量率\r\n",
      "ＤＥＲＳソフトウエア\r\n",
      "「ふげん発電所」\r\n",
      "\r\n",
      "ＶＲｄｏｓｅソフトウエア\r\n"
     ]
    }
   ],
   "source": [
    "!head -n 5 ../data/dic/test.dic.*"
   ]
  },
  {
   "cell_type": "code",
   "execution_count": 123,
   "id": "8dd52c62",
   "metadata": {
    "ExecuteTime": {
     "end_time": "2021-04-16T07:26:33.738294Z",
     "start_time": "2021-04-16T07:26:33.566619Z"
    },
    "scrolled": true
   },
   "outputs": [
    {
     "name": "stdout",
     "output_type": "stream",
     "text": [
      "ＤＥＲＳソフトウエアを用いて「ふげん発電所」の線量率を詳細に計算できる。|Details of dose rate of \"Fugen Power Plant\" can be calculated by using DERS software.|ＤＥＲＳソフトウエア\t「ふげん発電所」\t線量率|dose rate\t\"Fugen Power Plant\"\tDERS software|0\r\n",
      "線量率を計算する際の状況の変化，すなわちオブジェクトの変化をＶＲｄｏｓｅソフトウエアがＤＥＲＳに特別なマーカにより知らせる。|The changes of conditions for computation of the dose rate, namely, object changes, are inputted to DERS from VRdose software by using a special marker.|線量率\tオブジェクトの変化\tＶＲｄｏｓｅソフトウエア\tＤＥＲＳ|dose rate\tobject changes\tDERS\tVRdose software|4\r\n",
      "ＤＥＲＳはこれらの変化に対応して新たな線量率を計算できる。|Responding to these changes DERS can compute new dose rate.|ＤＥＲＳ\t線量率|DERS\tdose rate|5\r\n"
     ]
    }
   ],
   "source": [
    "!head -n 3 ../data/dic_full/test.dic.full"
   ]
  },
  {
   "cell_type": "code",
   "execution_count": 124,
   "id": "d116eb84",
   "metadata": {
    "ExecuteTime": {
     "end_time": "2021-04-16T07:26:52.783737Z",
     "start_time": "2021-04-16T07:26:52.743952Z"
    }
   },
   "outputs": [],
   "source": [
    "# sample用のen/jaのみデータ抽出\n",
    "with open('../data/dic_full/test.dic.full') as f_dic_full,  \\\n",
    "open('../data/sample_output.en', 'w') as f_en, \\\n",
    "open('../data/sample_output.ja', 'w') as f_ja:\n",
    "    for line in f_dic_full:\n",
    "        line = line.strip()\n",
    "        \n",
    "        ja_line, en_line, ja_dic, en_dic, annotator = line.split('|')\n",
    "        f_en.write(en_line + '\\n')\n",
    "        f_ja.write(ja_line + '\\n')"
   ]
  },
  {
   "cell_type": "code",
   "execution_count": 125,
   "id": "52a4e791",
   "metadata": {
    "ExecuteTime": {
     "end_time": "2021-04-16T07:26:54.190268Z",
     "start_time": "2021-04-16T07:26:53.826909Z"
    }
   },
   "outputs": [
    {
     "name": "stdout",
     "output_type": "stream",
     "text": [
      "==> ../data/sample_output.en <==\n",
      "Details of dose rate of \"Fugen Power Plant\" can be calculated by using DERS software.\n",
      "The changes of conditions for computation of the dose rate, namely, object changes, are inputted to DERS from VRdose software by using a special marker.\n",
      "Responding to these changes DERS can compute new dose rate.\n",
      "\n",
      "==> ../data/sample_output.ja <==\n",
      "ＤＥＲＳソフトウエアを用いて「ふげん発電所」の線量率を詳細に計算できる。\n",
      "線量率を計算する際の状況の変化，すなわちオブジェクトの変化をＶＲｄｏｓｅソフトウエアがＤＥＲＳに特別なマーカにより知らせる。\n",
      "ＤＥＲＳはこれらの変化に対応して新たな線量率を計算できる。\n",
      "==> ../data/sample_output.en <==\n",
      "The images were thinly sliced with microtome, and their cross‐sectional structures were observed by optical microscope and transmission type electron microscope.\n",
      "It was found that the printed image had lower image thickness and higher uniformity in thickness.\n",
      "A control in thickness direction seems to be effective for upgrading of the image quality in electro photography.\n",
      "\n",
      "==> ../data/sample_output.ja <==\n",
      "画像をミクロームで薄切りにして断面構造を光学顕微鏡及び透過型電子顕微鏡で観察した。\n",
      "その結果，印刷画像は画像の厚みが少なく，また，均一性が高いことがわかった。\n",
      "電子写真画像の高画質化にためには厚み方向の制御が有効と考えた\n"
     ]
    }
   ],
   "source": [
    "!head -n 3 ../data/sample_output.*\n",
    "!tail -n 3 ../data/sample_output.*"
   ]
  },
  {
   "cell_type": "markdown",
   "id": "69296b99",
   "metadata": {},
   "source": [
    "メモ\n",
    "```\n",
    "&lt;\t<\t右大不等号\n",
    "&gt;\t>\t左大不等号\n",
    "&amp;\t&\tアンドマーク（アンパサンド）\n",
    "&quot;\t\"\tダブルクォート（引用符）\n",
    "&#39;\t'\tシングルクォーテーション\n",
    "&nbsp;\t空白文字\n",
    "```"
   ]
  },
  {
   "cell_type": "code",
   "execution_count": 126,
   "id": "05d645d3",
   "metadata": {
    "ExecuteTime": {
     "end_time": "2021-04-16T07:26:56.682630Z",
     "start_time": "2021-04-16T07:26:56.667941Z"
    }
   },
   "outputs": [
    {
     "name": "stdout",
     "output_type": "stream",
     "text": [
      "Details of dose rate of \"Fugen Power Plant\" can be calculated by using DERS software .\n",
      "\n",
      "\n",
      "ＤＥＲＳソフトウエアを用いて「ふげん発電所」の線量率を詳細に計算できる。\n",
      "\n",
      "\n"
     ]
    }
   ],
   "source": [
    "import re\n",
    "\n",
    "dic_en = ['\"Fugen Power Plant\"', 'DERS software', 'dose rate']\n",
    "dic_ja = [\"線量率\", \"ＤＥＲＳソフトウエア\",\"「ふげん発電所」\"]\n",
    "out_en = 'Details of dose rate of \"Fugen Power Plant\" can be calculated by using DERS software .'\n",
    "out_en_1 = 'Details of hoge fuga of \"Hoge Power Plant\" can be calculated by using FUGA software .'\n",
    "out_en_2 = 'Details of dose rate of \"Hoge Power Plant\" can be calculated by using FUGA software .'\n",
    "out_ja = \"ＤＥＲＳソフトウエアを用いて「ふげん発電所」の線量率を詳細に計算できる。\"\n",
    "out_ja_1 = \"HOGEソフトウエアを用いて「ほげ発電所」のほげ率を詳細に計算できる 。\"\n",
    "out_ja_2 = \"HOGEソフトウエアを用いて「ふげん発電所」のほげ率を詳細に計算できる 。\"\n",
    "\n",
    "def filter_sentence_with_dic(sentence: str, dic: list):\n",
    "    def _remove_punctuation(word):\n",
    "        punctuations = r'\\'\"「」\\()（）'\n",
    "        for punc in punctuations:\n",
    "            word = word.replace(punc, '')\n",
    "        return word\n",
    "    \n",
    "    # Check whether the sent contains all the restricted words\n",
    "    match_count = 0\n",
    "    for word in dic:\n",
    "        # Remove punctuation ('',\"\", 「」, () ...) from word\n",
    "        word = _remove_punctuation(word)\n",
    "        \n",
    "        if re.search(word, sentence):\n",
    "            match_count += 1\n",
    "    \n",
    "    # Filter\n",
    "    if match_count == len(dic):\n",
    "        return sentence\n",
    "    else:\n",
    "        return ''\n",
    "    \n",
    "def test():\n",
    "    print(filter_sentence_with_dic(out_en, dic_en))\n",
    "    print(filter_sentence_with_dic(out_en_1, dic_en))\n",
    "    print(filter_sentence_with_dic(out_en_2, dic_en))\n",
    "    print(filter_sentence_with_dic(out_ja, dic_ja))\n",
    "    print(filter_sentence_with_dic(out_ja_1, dic_ja))\n",
    "    print(filter_sentence_with_dic(out_ja_2, dic_ja))\n",
    "\n",
    "test()"
   ]
  },
  {
   "cell_type": "code",
   "execution_count": 127,
   "id": "57005a1d",
   "metadata": {
    "ExecuteTime": {
     "end_time": "2021-04-16T07:26:57.713803Z",
     "start_time": "2021-04-16T07:26:57.547345Z"
    }
   },
   "outputs": [
    {
     "name": "stdout",
     "output_type": "stream",
     "text": [
      "    1812 ../data/sample_output.en\r\n"
     ]
    }
   ],
   "source": [
    "!wc -l ../data/sample_output.en"
   ]
  },
  {
   "cell_type": "code",
   "execution_count": 128,
   "id": "99953ca5",
   "metadata": {
    "ExecuteTime": {
     "end_time": "2021-04-16T07:26:58.712603Z",
     "start_time": "2021-04-16T07:26:58.100556Z"
    }
   },
   "outputs": [
    {
     "name": "stderr",
     "output_type": "stream",
     "text": [
      "494it [00:00, 4934.48it/s]"
     ]
    },
    {
     "name": "stdout",
     "output_type": "stream",
     "text": [
      "dic length: 1812\n"
     ]
    },
    {
     "name": "stderr",
     "output_type": "stream",
     "text": [
      "1812it [00:00, 5554.18it/s]\n"
     ]
    }
   ],
   "source": [
    "from tqdm import tqdm\n",
    "\n",
    "# TODO: jaの場合、いったんdetokenizeする必要がある\n",
    "gold_dic_path = \"../data/dic/test.dic.en\"\n",
    "output_path = \"../data/sample_output.en\"\n",
    "filtered_output_path = \"../work/filtered_sample_output.en\"\n",
    "\n",
    "def get_dic(file_path: str):\n",
    "    \"\"\"Load dictionary information (get dic_list)\n",
    "    input: file_path(str)\"\"\"\n",
    "    c = []\n",
    "    for l in open(file_path):\n",
    "        l = l.strip()\n",
    "        if l:\n",
    "            c.append(l)\n",
    "        else:\n",
    "            yield c\n",
    "            c = []        \n",
    "    yield c\n",
    "        \n",
    "dic_list = list(get_dic(gold_dic_path))\n",
    "print(f\"dic length: {len(dic_list[:-1])}\")\n",
    "\n",
    "with open(filtered_output_path, 'w') as f_filtered:\n",
    "    # Exact match between dictionary and output \n",
    "    with open(output_path) as f_out:\n",
    "        \n",
    "        # Check file length == dictionary length\n",
    "        sents = [l.strip() for l in f_out]\n",
    "        assert len(sents) == len(dic_list[:-1]), \"not match file length and dictionary length\"\n",
    "        \n",
    "        # Filter out sentences not containing restricted vocab\n",
    "        for sent, dic in tqdm(zip(sents, dic_list[:-1])):\n",
    "            # Debug\n",
    "            # print(dic_en, out_en)\n",
    "            filtered_sent = filter_sentence_with_dic(sent, dic)\n",
    "            f_filtered.write(filtered_sent + '\\n')"
   ]
  },
  {
   "cell_type": "code",
   "execution_count": null,
   "id": "1dd2e94d",
   "metadata": {},
   "outputs": [],
   "source": []
  }
 ],
 "metadata": {
  "kernelspec": {
   "display_name": "Python 3",
   "language": "python",
   "name": "python3"
  },
  "language_info": {
   "codemirror_mode": {
    "name": "ipython",
    "version": 3
   },
   "file_extension": ".py",
   "mimetype": "text/x-python",
   "name": "python",
   "nbconvert_exporter": "python",
   "pygments_lexer": "ipython3",
   "version": "3.8.6"
  },
  "toc": {
   "base_numbering": 1,
   "nav_menu": {},
   "number_sections": true,
   "sideBar": true,
   "skip_h1_title": false,
   "title_cell": "Table of Contents",
   "title_sidebar": "Contents",
   "toc_cell": false,
   "toc_position": {},
   "toc_section_display": true,
   "toc_window_display": false
  }
 },
 "nbformat": 4,
 "nbformat_minor": 5
}
