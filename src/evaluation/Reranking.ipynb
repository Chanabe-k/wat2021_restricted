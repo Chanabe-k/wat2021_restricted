{
 "cells": [
  {
   "cell_type": "code",
   "execution_count": 9,
   "id": "a3de1a7a",
   "metadata": {
    "ExecuteTime": {
     "end_time": "2021-04-18T06:40:28.920308Z",
     "start_time": "2021-04-18T06:40:28.697049Z"
    },
    "scrolled": true
   },
   "outputs": [
    {
     "name": "stdout",
     "output_type": "stream",
     "text": [
      "==> ../../data/dic/test.dic.en <==\r\n",
      "\"Fugen Power Plant\"\r\n",
      "DERS software\r\n",
      "dose rate\r\n",
      "\r\n",
      "dose rate\r\n",
      "\r\n",
      "==> ../../data/dic/test.dic.ja <==\r\n",
      "線量率\r\n",
      "ＤＥＲＳソフトウエア\r\n",
      "「ふげん発電所」\r\n",
      "\r\n",
      "ＶＲｄｏｓｅソフトウエア\r\n"
     ]
    }
   ],
   "source": [
    "!head -n 5 ../../data/dic/test.dic.*"
   ]
  },
  {
   "cell_type": "code",
   "execution_count": 12,
   "id": "d5ea9bdf",
   "metadata": {
    "ExecuteTime": {
     "end_time": "2021-04-18T06:40:43.437341Z",
     "start_time": "2021-04-18T06:40:43.217476Z"
    },
    "scrolled": true
   },
   "outputs": [
    {
     "name": "stdout",
     "output_type": "stream",
     "text": [
      "ＤＥＲＳソフトウエアを用いて「ふげん発電所」の線量率を詳細に計算できる。|Details of dose rate of \"Fugen Power Plant\" can be calculated by using DERS software.|ＤＥＲＳソフトウエア\t「ふげん発電所」\t線量率|dose rate\t\"Fugen Power Plant\"\tDERS software|0\r\n",
      "線量率を計算する際の状況の変化，すなわちオブジェクトの変化をＶＲｄｏｓｅソフトウエアがＤＥＲＳに特別なマーカにより知らせる。|The changes of conditions for computation of the dose rate, namely, object changes, are inputted to DERS from VRdose software by using a special marker.|線量率\tオブジェクトの変化\tＶＲｄｏｓｅソフトウエア\tＤＥＲＳ|dose rate\tobject changes\tDERS\tVRdose software|4\r\n",
      "ＤＥＲＳはこれらの変化に対応して新たな線量率を計算できる。|Responding to these changes DERS can compute new dose rate.|ＤＥＲＳ\t線量率|DERS\tdose rate|5\r\n"
     ]
    }
   ],
   "source": [
    "!head -n 3 ../../data/dic_full/test.dic.full"
   ]
  },
  {
   "cell_type": "code",
   "execution_count": 1,
   "id": "3c02f0e9",
   "metadata": {
    "ExecuteTime": {
     "end_time": "2021-05-06T11:44:42.439036Z",
     "start_time": "2021-05-06T11:44:42.421231Z"
    }
   },
   "outputs": [],
   "source": [
    "with open('../../data/dic_full/test.dic.full') as f_dic_full,  \\\n",
    "open('../../data/test_gold.en', 'w') as f_en, \\\n",
    "open('../../data/test_gold.ja', 'w') as f_ja:\n",
    "    for line in f_dic_full:\n",
    "        line = line.strip()\n",
    "        \n",
    "        ja_line, en_line, ja_dic, en_dic, annotator = line.split('|')\n",
    "        f_en.write(en_line + '\\n')\n",
    "        f_ja.write(ja_line + '\\n')"
   ]
  },
  {
   "cell_type": "code",
   "execution_count": 3,
   "id": "39270b3a",
   "metadata": {
    "ExecuteTime": {
     "end_time": "2021-05-06T11:45:04.314587Z",
     "start_time": "2021-05-06T11:45:04.052415Z"
    }
   },
   "outputs": [
    {
     "name": "stdout",
     "output_type": "stream",
     "text": [
      "==> ../../data/test_gold.en <==\n",
      "Details of dose rate of \"Fugen Power Plant\" can be calculated by using DERS software.\n",
      "The changes of conditions for computation of the dose rate, namely, object changes, are inputted to DERS from VRdose software by using a special marker.\n",
      "Responding to these changes DERS can compute new dose rate.\n",
      "\n",
      "==> ../../data/test_gold.ja <==\n",
      "ＤＥＲＳソフトウエアを用いて「ふげん発電所」の線量率を詳細に計算できる。\n",
      "線量率を計算する際の状況の変化，すなわちオブジェクトの変化をＶＲｄｏｓｅソフトウエアがＤＥＲＳに特別なマーカにより知らせる。\n",
      "ＤＥＲＳはこれらの変化に対応して新たな線量率を計算できる。\n",
      "==> ../../data/test_gold.en <==\n",
      "The images were thinly sliced with microtome, and their cross‐sectional structures were observed by optical microscope and transmission type electron microscope.\n",
      "It was found that the printed image had lower image thickness and higher uniformity in thickness.\n",
      "A control in thickness direction seems to be effective for upgrading of the image quality in electro photography.\n",
      "\n",
      "==> ../../data/test_gold.ja <==\n",
      "画像をミクロームで薄切りにして断面構造を光学顕微鏡及び透過型電子顕微鏡で観察した。\n",
      "その結果，印刷画像は画像の厚みが少なく，また，均一性が高いことがわかった。\n",
      "電子写真画像の高画質化にためには厚み方向の制御が有効と考えた\n"
     ]
    }
   ],
   "source": [
    "!head -n 3 ../../data/test_gold.*\n",
    "!tail -n 3 ../../data/test_gold.*"
   ]
  },
  {
   "cell_type": "code",
   "execution_count": 2,
   "id": "e0b5e787",
   "metadata": {
    "ExecuteTime": {
     "end_time": "2021-05-06T11:44:44.133431Z",
     "start_time": "2021-05-06T11:44:43.866007Z"
    }
   },
   "outputs": [
    {
     "name": "stdout",
     "output_type": "stream",
     "text": [
      "==> ../../data/sample_output.en <==\n",
      "Details of dose rate of \"Hoge Power Plant\" can be calculated by using DERS software.\n",
      "The changes of conditions for computation of the dose rate, namely, object changes, are inputted to DERS from VRdose software by using a special marker.\n",
      "Responding to these changes HOGE can compute new dose rate.\n",
      "\n",
      "==> ../../data/sample_output.ja <==\n",
      "ＤＥＲＳソフトウエアを用いて「ほげ発電所」の線量率を詳細に計算できる。\n",
      "線量率を計算する際の状況の変化，すなわちオブジェクトの変化をＶＲｄｏｓｅソフトウエアがＤＥＲＳに特別なマーカにより知らせる。\n",
      "HOGEはこれらの変化に対応して新たな線量率を計算できる。\n",
      "==> ../../data/sample_output.en <==\n",
      "The images were thinly sliced with microtome, and their cross‐sectional structures were observed by optical microscope and transmission type electron microscope.\n",
      "It was found that the printed image had lower image thickness and higher uniformity in thickness.\n",
      "A control in thickness direction seems to be effective for upgrading of the image quality in electro photography.\n",
      "\n",
      "==> ../../data/sample_output.ja <==\n",
      "画像をミクロームで薄切りにして断面構造を光学顕微鏡及び透過型電子顕微鏡で観察した。\n",
      "その結果，印刷画像は画像の厚みが少なく，また，均一性が高いことがわかった。\n",
      "電子写真画像の高画質化にためには厚み方向の制御が有効と考えた\n"
     ]
    }
   ],
   "source": [
    "!head -n 3 ../../data/sample_output.*\n",
    "!tail -n 3 ../../data/sample_output.*"
   ]
  },
  {
   "cell_type": "code",
   "execution_count": 1,
   "id": "2b6b1cd9",
   "metadata": {
    "ExecuteTime": {
     "end_time": "2022-03-18T06:36:13.534224Z",
     "start_time": "2022-03-18T06:36:13.530562Z"
    },
    "scrolled": true
   },
   "outputs": [],
   "source": [
    "# import re\n",
    "\n",
    "# dic_en = ['\"Fugen Power Plant\"', 'DERS software', 'dose rate']\n",
    "# dic_ja = [\"線量率\", \"ＤＥＲＳソフトウエア\",\"「ふげん発電所」\"]\n",
    "# dic_en_plus = ['band offset', 'bandgap', 'Hf/(Hf+Si) ratio', 'nano-laminate']\n",
    "# out_en = 'Details of doserate of \"Fugen Power Plant\" can be calculated by using DERS software .'\n",
    "# out_en_1 = 'Details of hoge fuga of \"Hoge Power Plant\" can be calculated by using FUGA software .'\n",
    "# out_en_2 = 'Details of doserate of \"Hoge Power Plant\" can be calculated by using FUGA software .'\n",
    "# out_ja = \"ＤＥＲＳソフトウエアを用いて「ふげん発電所」の線量率を詳細に計算できる。\"\n",
    "# out_ja_1 = \"HOGEソフトウエアを用いて「ほげ発電所」のほげ率を詳細に計算できる 。\"\n",
    "# out_ja_2 = \"HOGEソフトウエアを用いて「ふげん発電所」のほげ率を詳細に計算できる 。\"\n",
    "# out_en_plus = \"It was clarified that although Hf/(Hf+Si) ratio did not affect the bandgap, it affected the band offset for nano-laminate.\"\n",
    "\n",
    "# def _lowercase(text: str):\n",
    "#     return text.lower()\n",
    "\n",
    "# def _detokenize(text: str):\n",
    "#     return ''.join(text.split(' '))\n",
    "\n",
    "# def _remove_punctuation(text: str):\n",
    "#     punctuations = r'\\'\"「」\\()（）'\n",
    "#     for punc in punctuations:\n",
    "#         text = text.replace(punc, '')\n",
    "#     return text\n",
    "\n",
    "# def _replace_specialchar(w: str):\n",
    "#     # HACK: 制約語に「+」が入っている単語の場合、exact matchがうまく動かない => バクスラ退避する\n",
    "#     specialchars = '+'\n",
    "#     for specialchar in specialchars:\n",
    "#         w = w.replace(specialchar, '\\\\' + specialchar)\n",
    "#     return w\n",
    "\n",
    "# def filter_sentence_with_dic(s: str, dic: list):\n",
    "#     orig_s = s\n",
    "    \n",
    "#     # Check whether the s(entence) contains all the restricted w(ords)\n",
    "#     match_count = 0\n",
    "#     for w in dic:\n",
    "#         for f in [_lowercase, _detokenize, _remove_punctuation]:\n",
    "#             w, s = f(w), f(s)\n",
    "        \n",
    "#         w = _replace_specialchar(w)\n",
    "        \n",
    "#         if re.search(w, s):\n",
    "#             match_count += 1\n",
    "#         else:\n",
    "#             print(w, s)\n",
    "    \n",
    "#     # Filter\n",
    "#     if match_count == len(dic):\n",
    "#         return orig_s\n",
    "#     else:\n",
    "#         return ''\n",
    "    \n",
    "# def test():\n",
    "#     print(filter_sentence_with_dic(out_en, dic_en))\n",
    "#     print(filter_sentence_with_dic(out_en_1, dic_en))\n",
    "#     print(filter_sentence_with_dic(out_en_2, dic_en))\n",
    "#     print(filter_sentence_with_dic(out_ja, dic_ja))\n",
    "#     print(filter_sentence_with_dic(out_ja_1, dic_ja))\n",
    "#     print(filter_sentence_with_dic(out_ja_2, dic_ja))\n",
    "    \n",
    "#     print(filter_sentence_with_dic(out_en_plus, dic_en_plus))\n",
    "\n",
    "# test()"
   ]
  },
  {
   "cell_type": "code",
   "execution_count": 2,
   "id": "d1b3506c",
   "metadata": {
    "ExecuteTime": {
     "end_time": "2022-03-18T06:36:17.212555Z",
     "start_time": "2022-03-18T06:36:17.209420Z"
    }
   },
   "outputs": [],
   "source": [
    "# pattern = r'hf/hf\\+siratio'\n",
    "# re.search(pattern, 'itwasclarifiedthatalthoughhf/hf+siratiodidnotaffectthebandgap,itaffectedthebandoffsetfornano-laminate.')"
   ]
  },
  {
   "cell_type": "code",
   "execution_count": 4,
   "id": "77a4e94a",
   "metadata": {
    "ExecuteTime": {
     "end_time": "2022-03-18T06:36:30.193648Z",
     "start_time": "2022-03-18T06:36:30.188379Z"
    }
   },
   "outputs": [],
   "source": [
    "# from tqdm import tqdm\n",
    "\n",
    "# # TODO: jaの場合、いったんdetokenizeする必要がある\n",
    "# gold_dic_path = \"../../data/dic/test.dic.en\"\n",
    "# output_path = \"../../data/sample_output.en\"\n",
    "# filtered_output_path = \"../../work/filtered_sample_output.en\"\n",
    "\n",
    "# def get_dic(file_path: str):\n",
    "#     \"\"\"Load dictionary information (get dic_list)\n",
    "#     input: file_path(str)\"\"\"\n",
    "#     c = []\n",
    "#     for l in open(file_path):\n",
    "#         l = l.strip()\n",
    "#         if l:\n",
    "#             c.append(l)\n",
    "#         else:\n",
    "#             yield c\n",
    "#             c = []        \n",
    "#     yield c\n",
    "        \n",
    "# dic_list = list(get_dic(gold_dic_path))\n",
    "# print(f\"dic length: {len(dic_list[:-1])}\")\n",
    "\n",
    "# with open(filtered_output_path, 'w') as f_filtered:\n",
    "#     # Exact match between dictionary and output \n",
    "#     with open(output_path) as f_out:\n",
    "        \n",
    "#         # Check file length == dictionary length\n",
    "#         sents = [l.strip() for l in f_out]\n",
    "#         assert len(sents) == len(dic_list[:-1]), \"not match file length and dictionary length\"\n",
    "        \n",
    "#         # Filter out sentences not containing restricted vocab\n",
    "#         for sent, dic in tqdm(zip(sents, dic_list[:-1])):\n",
    "#             # Debug\n",
    "#             # print(dic_en, out_en)\n",
    "#             filtered_sent = filter_sentence_with_dic(sent, dic)\n",
    "#             f_filtered.write(filtered_sent + '\\n')"
   ]
  },
  {
   "cell_type": "code",
   "execution_count": 5,
   "id": "c2282104",
   "metadata": {
    "ExecuteTime": {
     "end_time": "2022-03-18T06:36:38.812913Z",
     "start_time": "2022-03-18T06:36:38.810140Z"
    }
   },
   "outputs": [],
   "source": [
    "# gold_dic_path = \"../../data/dic/test.dic.ja\"\n",
    "\n",
    "# def get_dic(file_path: str):\n",
    "#     \"\"\"Load dictionary information (get dic_list)\n",
    "#     input: file_path(str)\"\"\"\n",
    "#     c = []\n",
    "#     for l in open(file_path):\n",
    "#         l = l.strip()\n",
    "#         if l:\n",
    "#             c.append(l)\n",
    "#         else:\n",
    "#             yield c\n",
    "#             c = []        \n",
    "#     yield c\n",
    "        \n",
    "# dic_list = list(get_dic(gold_dic_path))\n",
    "\n",
    "# with open('../../work/filtered_sample_output.ja') as f_filtered_en, \\\n",
    "# open('../../data/sample_output.ja') as f_en:\n",
    "#     for dic, filtered_en_line, en_line in zip(dic_list, f_filtered_en, f_en):\n",
    "#         filtered_en_line = filtered_en_line.strip()\n",
    "#         en_line = en_line.strip()\n",
    "        \n",
    "#         if len(filtered_en_line) == 0:\n",
    "#             print(dic)\n",
    "#             print(en_line)"
   ]
  },
  {
   "cell_type": "markdown",
   "id": "22f4f8f6",
   "metadata": {},
   "source": [
    "## Re-ranking"
   ]
  },
  {
   "cell_type": "code",
   "execution_count": 23,
   "id": "98fce5c1",
   "metadata": {
    "ExecuteTime": {
     "end_time": "2021-05-08T07:22:11.784987Z",
     "start_time": "2021-05-08T07:22:11.654533Z"
    }
   },
   "outputs": [
    {
     "name": "stdout",
     "output_type": "stream",
     "text": [
      "../../work/all_results_en-ja.txt ../../work/all_results_ja-en.txt\r\n"
     ]
    }
   ],
   "source": [
    "!ls ../../work/all_results_*.txt"
   ]
  },
  {
   "cell_type": "code",
   "execution_count": 24,
   "id": "9fa68c30",
   "metadata": {
    "ExecuteTime": {
     "end_time": "2021-05-08T07:22:12.256593Z",
     "start_time": "2021-05-08T07:22:12.125699Z"
    }
   },
   "outputs": [
    {
     "name": "stdout",
     "output_type": "stream",
     "text": [
      "==> ../../work/all_results_en-ja.txt <==\r\n",
      "10_NHK_0421173315_as1t2tmboth.en.out.filtered\r\n",
      "BLEU+case.mixed+lang.en-ja+numrefs.1+smooth.exp+tok.ja-mecab-0.996-IPA+version.1.5.1 = 1.2 78.1/58.9/46.0/36.8 (BP = 0.023 ratio = 0.209 hyp_len = 10525 ref_len = 50243)\r\n",
      "11_NTT_0426205747_enja.baseline.2m_back1m.wo_constraints.filtered\r\n",
      "BLEU+case.mixed+lang.en-ja+numrefs.1+smooth.exp+tok.ja-mecab-0.996-IPA+version.1.5.1 = 0.4 71.2/49.9/36.1/26.4 (BP = 0.009 ratio = 0.174 hyp_len = 8761 ref_len = 50243)\r\n",
      "12_NHK_0421174315_as12.en.out.filtered\r\n",
      "BLEU+case.mixed+lang.en-ja+numrefs.1+smooth.exp+tok.ja-mecab-0.996-IPA+version.1.5.1 = 1.0 78.2/59.1/46.2/36.8 (BP = 0.019 ratio = 0.202 hyp_len = 10160 ref_len = 50243)\r\n",
      "1_NTT_0422123316_aspec-je.test.en.leca+search.result.filtered\r\n",
      "BLEU+case.mixed+lang.en-ja+numrefs.1+smooth.exp+tok.ja-mecab-0.996-IPA+version.1.5.1 = 57.2 81.5/64.3/52.2/43.1 (BP = 0.976 ratio = 0.976 hyp_len = 49039 ref_len = 50243)\r\n",
      "2_NTT_0426143216_aspec-je.test.en.leca+search.result.result.filtered\r\n",
      "BLEU+case.mixed+lang.en-ja+numrefs.1+smooth.exp+tok.ja-mecab-0.996-IPA+version.1.5.1 = 57.1 81.9/64.8/52.6/43.4 (BP = 0.968 ratio = 0.968 hyp_len = 48643 ref_len = 50243)\r\n",
      "\r\n",
      "==> ../../work/all_results_ja-en.txt <==\r\n",
      "10_NHK_0421175029_as1t2tm3both.ja.out.filtered\r\n",
      "BLEU+case.mixed+lang.ja-en+numrefs.1+smooth.exp+tok.13a+version.1.5.1 = 0.6 65.8/43.0/29.9/21.7 (BP = 0.017 ratio = 0.197 hyp_len = 8764 ref_len = 44401)\r\n",
      "11_NTT_0426210226_jaen.baseline.2m.wo_constraints.filtered\r\n",
      "BLEU+case.mixed+lang.ja-en+numrefs.1+smooth.exp+tok.13a+version.1.5.1 = 0.5 65.4/41.5/28.4/20.0 (BP = 0.014 ratio = 0.189 hyp_len = 8395 ref_len = 44401)\r\n",
      "12_NHK_0421175246_as12.ja.out.filtered\r\n",
      "BLEU+case.mixed+lang.ja-en+numrefs.1+smooth.exp+tok.13a+version.1.5.1 = 0.5 65.6/42.6/29.4/21.1 (BP = 0.013 ratio = 0.187 hyp_len = 8299 ref_len = 44401)\r\n",
      "13_TMU_0503132349_sorted_seg14.output.txt.filtered\r\n",
      "BLEU+case.mixed+lang.ja-en+numrefs.1+smooth.exp+tok.13a+version.1.5.1 = 22.6 55.0/32.7/19.2/11.0 (BP = 0.912 ratio = 0.915 hyp_len = 40644 ref_len = 44401)\r\n",
      "14_NTT_0426210438_jaen.baseline.2m.search.filtered\r\n",
      "BLEU+case.mixed+lang.ja-en+numrefs.1+smooth.exp+tok.13a+version.1.5.1 = 23.5 42.3/27.7/19.2/13.7 (BP = 1.000 ratio = 1.416 hyp_len = 62852 ref_len = 44401)\r\n"
     ]
    }
   ],
   "source": [
    "!head ../../work/all_results_*.txt"
   ]
  },
  {
   "cell_type": "code",
   "execution_count": 25,
   "id": "18d3e8dc",
   "metadata": {
    "ExecuteTime": {
     "end_time": "2021-05-08T07:22:17.619765Z",
     "start_time": "2021-05-08T07:22:17.604249Z"
    }
   },
   "outputs": [
    {
     "name": "stdout",
     "output_type": "stream",
     "text": [
      "# ja-en\n",
      "[('1_NTT_0420135242_aspec-je.test.ja.leca+search.result.result.filtered', 44.1),\n",
      " ('2_NTT_0426143046_aspec-je.test.ja.leca+search.result.filtered', 44.0),\n",
      " ('3_NTT_0421155444_aspec-je.test.ja.leca+search.result.filtered', 44.0),\n",
      " ('4_NTT_0421181058_aspec-je.test.ja.leca+search.result.filtered', 43.0),\n",
      " ('5_NHK_0425002735_AS12RSTFRORNtrg-rmt.en.filtered', 37.5),\n",
      " ('7_nictrb_0426021046_test.ASPEC.tok.en.detok.pred.filtered', 31.8),\n",
      " ('8_nictrb_0426010928_test.ASPEC.tok.en.detok.pred.filtered', 31.8),\n",
      " ('6_NTT_0421161614_aspec-je.test.ja.leca.result.filtered', 31.6),\n",
      " ('9_nictrb_0420162731_test.ASPEC.tok.en.detok.pred.filtered', 30.7),\n",
      " ('14_NTT_0426210438_jaen.baseline.2m.search.filtered', 23.5),\n",
      " ('13_TMU_0503132349_sorted_seg14.output.txt.filtered', 22.6),\n",
      " ('10_NHK_0421175029_as1t2tm3both.ja.out.filtered', 0.6),\n",
      " ('11_NTT_0426210226_jaen.baseline.2m.wo_constraints.filtered', 0.5),\n",
      " ('12_NHK_0421175246_as12.ja.out.filtered', 0.5)]\n"
     ]
    }
   ],
   "source": [
    "print(\"# ja-en\")\n",
    "from itertools import groupby\n",
    "import pprint\n",
    "\n",
    "file_names = []\n",
    "all_scores = []\n",
    "for is_bleu, g in groupby(open('../../work/all_results_ja-en.txt'), lambda line: line.startswith('BLEU')):\n",
    "    if is_bleu:\n",
    "        lines = list(g)\n",
    "        for l in lines:\n",
    "            _, scores = l.split(' = ', 1)\n",
    "            BLEU_score = float(scores.split()[0])\n",
    "            all_scores.append(BLEU_score)\n",
    "    else:\n",
    "        lines = list(g)\n",
    "        for l in lines:\n",
    "            file_names.append(l.strip())\n",
    "\n",
    "score_list = [(file, score) for file, score in zip(file_names, all_scores)]\n",
    "pprint.pprint(sorted(score_list, key=lambda t:t[1], reverse=True))"
   ]
  },
  {
   "cell_type": "code",
   "execution_count": 26,
   "id": "8617e36a",
   "metadata": {
    "ExecuteTime": {
     "end_time": "2021-05-08T07:22:19.403316Z",
     "start_time": "2021-05-08T07:22:19.394347Z"
    }
   },
   "outputs": [
    {
     "name": "stdout",
     "output_type": "stream",
     "text": [
      "# en-ja\n",
      "[('1_NTT_0422123316_aspec-je.test.en.leca+search.result.filtered', 57.2),\n",
      " ('2_NTT_0426143216_aspec-je.test.en.leca+search.result.result.filtered', 57.1),\n",
      " ('3_NTT_0421181610_aspec-je.test.en.leca+search.result.filtered', 56.1),\n",
      " ('4_NTT_0421162455_aspec-je.test.en.leca.result.filtered', 43.3),\n",
      " ('5_NHK_0425002224_AS12RSTFRNtrg-rmt.ja.filtered', 33.9),\n",
      " ('7_nictrb_0426002343_test.ASPEC.tok.ja.detok.pred.filtered', 28.8),\n",
      " ('6_nictrb_0426012248_test.ASPEC.tok.ja.detok.pred.filtered', 28.6),\n",
      " ('8_nictrb_0420153108_test.ASPEC.tok.ja.detok.pred.filtered', 27.5),\n",
      " ('9_NTT_0426210040_enja.baseline.2m_back1m.search.filtered', 22.8),\n",
      " ('10_NHK_0421173315_as1t2tmboth.en.out.filtered', 1.2),\n",
      " ('12_NHK_0421174315_as12.en.out.filtered', 1.0),\n",
      " ('11_NTT_0426205747_enja.baseline.2m_back1m.wo_constraints.filtered', 0.4)]\n"
     ]
    }
   ],
   "source": [
    "print(\"# en-ja\")\n",
    "from itertools import groupby\n",
    "import pprint\n",
    "\n",
    "file_names = []\n",
    "all_scores = []\n",
    "for is_bleu, g in groupby(open('../../work/all_results_en-ja.txt'), lambda line: line.startswith('BLEU')):\n",
    "    if is_bleu:\n",
    "        lines = list(g)\n",
    "        for l in lines:\n",
    "            _, scores = l.split(' = ', 1)\n",
    "            BLEU_score = float(scores.split()[0])\n",
    "            all_scores.append(BLEU_score)\n",
    "    else:\n",
    "        lines = list(g)\n",
    "        for l in lines:\n",
    "            file_names.append(l.strip())\n",
    "\n",
    "score_list = [(file, score) for file, score in zip(file_names, all_scores)]\n",
    "pprint.pprint(sorted(score_list, key=lambda t:t[1], reverse=True))"
   ]
  },
  {
   "cell_type": "markdown",
   "id": "f51436a3",
   "metadata": {},
   "source": [
    "## Auto eval. of Online-system "
   ]
  },
  {
   "cell_type": "code",
   "execution_count": 6,
   "id": "50b16a38",
   "metadata": {
    "ExecuteTime": {
     "end_time": "2023-01-08T06:06:15.016582Z",
     "start_time": "2023-01-08T06:06:14.312147Z"
    }
   },
   "outputs": [
    {
     "name": "stdout",
     "output_type": "stream",
     "text": [
      "+ LANG=en\n",
      "+ DIRECTION=ja-en\n",
      "+ HOME_PATH=/Users/abe-k/restricted_translation/wat2021_restricted/\n",
      "+ OUTPUTS_PATH=/Users/abe-k/restricted_translation/wat2021_restricted/submitted_outputs/ja-en\n",
      "+ echo /Users/abe-k/restricted_translation/wat2021_restricted/submitted_outputs/ja-en\n",
      "/Users/abe-k/restricted_translation/wat2021_restricted/submitted_outputs/ja-en\n",
      "++ ls /Users/abe-k/restricted_translation/wat2021_restricted/submitted_outputs/ja-en\n",
      "+ for OUTPUT_PATH in '$( ls ${OUTPUTS_PATH})'\n",
      "+ echo 10_NHK_0421175029_as1t2tm3both.ja.out\n",
      "10_NHK_0421175029_as1t2tm3both.ja.out\n",
      "+ FILTERED_OUTPUT_PATH=/Users/abe-k/restricted_translation/wat2021_restricted/work/filtered_outputs_includeslash/ja-en/10_NHK_0421175029_as1t2tm3both.ja.out.filtered\n",
      "+ python /Users/abe-k/restricted_translation/wat2021_restricted/src/evaluation/filter_out_sentences.py --dic /Users/abe-k/restricted_translation/wat2021_restricted/data/ASPEC-JE/dic/test.dic.en --input /Users/abe-k/restricted_translation/wat2021_restricted/submitted_outputs/ja-en/10_NHK_0421175029_as1t2tm3both.ja.out --output /Users/abe-k/restricted_translation/wat2021_restricted/work/filtered_outputs_includeslash/ja-en/10_NHK_0421175029_as1t2tm3both.ja.out.filtered --lang en\n",
      "Traceback (most recent call last):\n",
      "  File \"/Users/abe-k/restricted_translation/wat2021_restricted/src/evaluation/filter_out_sentences.py\", line 90, in <module>\n",
      "    main()\n",
      "  File \"/Users/abe-k/restricted_translation/wat2021_restricted/src/evaluation/filter_out_sentences.py\", line 74, in main\n",
      "    dic_list = list(get_dic(dic_path))\n",
      "  File \"/Users/abe-k/restricted_translation/wat2021_restricted/src/evaluation/filter_out_sentences.py\", line 53, in get_dic\n",
      "    for l in open(file_path):\n",
      "FileNotFoundError: [Errno 2] No such file or directory: '/Users/abe-k/restricted_translation/wat2021_restricted/data/ASPEC-JE/dic/test.dic.en'\n"
     ]
    }
   ],
   "source": [
    "!./run_filter_out.sh en ja-en"
   ]
  },
  {
   "cell_type": "code",
   "execution_count": null,
   "id": "839837c3",
   "metadata": {},
   "outputs": [],
   "source": []
  }
 ],
 "metadata": {
  "kernelspec": {
   "display_name": "Python 3 (ipykernel)",
   "language": "python",
   "name": "python3"
  },
  "language_info": {
   "codemirror_mode": {
    "name": "ipython",
    "version": 3
   },
   "file_extension": ".py",
   "mimetype": "text/x-python",
   "name": "python",
   "nbconvert_exporter": "python",
   "pygments_lexer": "ipython3",
   "version": "3.9.1"
  },
  "toc": {
   "base_numbering": 1,
   "nav_menu": {},
   "number_sections": true,
   "sideBar": true,
   "skip_h1_title": false,
   "title_cell": "Table of Contents",
   "title_sidebar": "Contents",
   "toc_cell": false,
   "toc_position": {},
   "toc_section_display": true,
   "toc_window_display": false
  }
 },
 "nbformat": 4,
 "nbformat_minor": 5
}
