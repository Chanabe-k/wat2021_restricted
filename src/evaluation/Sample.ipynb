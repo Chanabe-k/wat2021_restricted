{
 "cells": [
  {
   "cell_type": "code",
   "execution_count": 9,
   "id": "a3de1a7a",
   "metadata": {
    "ExecuteTime": {
     "end_time": "2021-04-18T06:40:28.920308Z",
     "start_time": "2021-04-18T06:40:28.697049Z"
    },
    "scrolled": true
   },
   "outputs": [
    {
     "name": "stdout",
     "output_type": "stream",
     "text": [
      "==> ../../data/dic/test.dic.en <==\r\n",
      "\"Fugen Power Plant\"\r\n",
      "DERS software\r\n",
      "dose rate\r\n",
      "\r\n",
      "dose rate\r\n",
      "\r\n",
      "==> ../../data/dic/test.dic.ja <==\r\n",
      "線量率\r\n",
      "ＤＥＲＳソフトウエア\r\n",
      "「ふげん発電所」\r\n",
      "\r\n",
      "ＶＲｄｏｓｅソフトウエア\r\n"
     ]
    }
   ],
   "source": [
    "!head -n 5 ../../data/dic/test.dic.*"
   ]
  },
  {
   "cell_type": "code",
   "execution_count": 12,
   "id": "d5ea9bdf",
   "metadata": {
    "ExecuteTime": {
     "end_time": "2021-04-18T06:40:43.437341Z",
     "start_time": "2021-04-18T06:40:43.217476Z"
    },
    "scrolled": true
   },
   "outputs": [
    {
     "name": "stdout",
     "output_type": "stream",
     "text": [
      "ＤＥＲＳソフトウエアを用いて「ふげん発電所」の線量率を詳細に計算できる。|Details of dose rate of \"Fugen Power Plant\" can be calculated by using DERS software.|ＤＥＲＳソフトウエア\t「ふげん発電所」\t線量率|dose rate\t\"Fugen Power Plant\"\tDERS software|0\r\n",
      "線量率を計算する際の状況の変化，すなわちオブジェクトの変化をＶＲｄｏｓｅソフトウエアがＤＥＲＳに特別なマーカにより知らせる。|The changes of conditions for computation of the dose rate, namely, object changes, are inputted to DERS from VRdose software by using a special marker.|線量率\tオブジェクトの変化\tＶＲｄｏｓｅソフトウエア\tＤＥＲＳ|dose rate\tobject changes\tDERS\tVRdose software|4\r\n",
      "ＤＥＲＳはこれらの変化に対応して新たな線量率を計算できる。|Responding to these changes DERS can compute new dose rate.|ＤＥＲＳ\t線量率|DERS\tdose rate|5\r\n"
     ]
    }
   ],
   "source": [
    "!head -n 3 ../../data/dic_full/test.dic.full"
   ]
  },
  {
   "cell_type": "code",
   "execution_count": 14,
   "id": "3c02f0e9",
   "metadata": {
    "ExecuteTime": {
     "end_time": "2021-04-18T06:40:50.716302Z",
     "start_time": "2021-04-18T06:40:50.666706Z"
    }
   },
   "outputs": [],
   "source": [
    "with open('../../data/dic_full/test.dic.full') as f_dic_full,  \\\n",
    "open('../../data/sample_output.en', 'w') as f_en, \\\n",
    "open('../../data/sample_output.ja', 'w') as f_ja:\n",
    "    for line in f_dic_full:\n",
    "        line = line.strip()\n",
    "        \n",
    "        ja_line, en_line, ja_dic, en_dic, annotator = line.split('|')\n",
    "        f_en.write(en_line + '\\n')\n",
    "        f_ja.write(ja_line + '\\n')"
   ]
  },
  {
   "cell_type": "code",
   "execution_count": 15,
   "id": "e0b5e787",
   "metadata": {
    "ExecuteTime": {
     "end_time": "2021-04-18T06:40:54.229777Z",
     "start_time": "2021-04-18T06:40:53.871890Z"
    }
   },
   "outputs": [
    {
     "name": "stdout",
     "output_type": "stream",
     "text": [
      "==> ../../data/sample_output.en <==\n",
      "Details of dose rate of \"Fugen Power Plant\" can be calculated by using DERS software.\n",
      "The changes of conditions for computation of the dose rate, namely, object changes, are inputted to DERS from VRdose software by using a special marker.\n",
      "Responding to these changes DERS can compute new dose rate.\n",
      "\n",
      "==> ../../data/sample_output.ja <==\n",
      "ＤＥＲＳソフトウエアを用いて「ふげん発電所」の線量率を詳細に計算できる。\n",
      "線量率を計算する際の状況の変化，すなわちオブジェクトの変化をＶＲｄｏｓｅソフトウエアがＤＥＲＳに特別なマーカにより知らせる。\n",
      "ＤＥＲＳはこれらの変化に対応して新たな線量率を計算できる。\n",
      "==> ../../data/sample_output.en <==\n",
      "The images were thinly sliced with microtome, and their cross‐sectional structures were observed by optical microscope and transmission type electron microscope.\n",
      "It was found that the printed image had lower image thickness and higher uniformity in thickness.\n",
      "A control in thickness direction seems to be effective for upgrading of the image quality in electro photography.\n",
      "\n",
      "==> ../../data/sample_output.ja <==\n",
      "画像をミクロームで薄切りにして断面構造を光学顕微鏡及び透過型電子顕微鏡で観察した。\n",
      "その結果，印刷画像は画像の厚みが少なく，また，均一性が高いことがわかった。\n",
      "電子写真画像の高画質化にためには厚み方向の制御が有効と考えた\n"
     ]
    }
   ],
   "source": [
    "!head -n 3 ../../data/sample_output.*\n",
    "!tail -n 3 ../../data/sample_output.*"
   ]
  },
  {
   "cell_type": "markdown",
   "id": "c138ecb8",
   "metadata": {},
   "source": [
    "メモ\n",
    "```\n",
    "&lt;\t<\t右大不等号\n",
    "&gt;\t>\t左大不等号\n",
    "&amp;\t&\tアンドマーク（アンパサンド）\n",
    "&quot;\t\"\tダブルクォート（引用符）\n",
    "&#39;\t'\tシングルクォーテーション\n",
    "&nbsp;\t空白文字\n",
    "```"
   ]
  },
  {
   "cell_type": "code",
   "execution_count": 58,
   "id": "2b6b1cd9",
   "metadata": {
    "ExecuteTime": {
     "end_time": "2021-04-18T07:20:28.668835Z",
     "start_time": "2021-04-18T07:20:28.657814Z"
    },
    "scrolled": true
   },
   "outputs": [
    {
     "name": "stdout",
     "output_type": "stream",
     "text": [
      "Details of doserate of \"Fugen Power Plant\" can be calculated by using DERS software .\n",
      "fugenpowerplant detailsofhogefugaofhogepowerplantcanbecalculatedbyusingfugasoftware.\n",
      "derssoftware detailsofhogefugaofhogepowerplantcanbecalculatedbyusingfugasoftware.\n",
      "doserate detailsofhogefugaofhogepowerplantcanbecalculatedbyusingfugasoftware.\n",
      "\n",
      "fugenpowerplant detailsofdoserateofhogepowerplantcanbecalculatedbyusingfugasoftware.\n",
      "derssoftware detailsofdoserateofhogepowerplantcanbecalculatedbyusingfugasoftware.\n",
      "\n",
      "ＤＥＲＳソフトウエアを用いて「ふげん発電所」の線量率を詳細に計算できる。\n",
      "線量率 hogeソフトウエアを用いてほげ発電所のほげ率を詳細に計算できる。\n",
      "ｄｅｒｓソフトウエア hogeソフトウエアを用いてほげ発電所のほげ率を詳細に計算できる。\n",
      "ふげん発電所 hogeソフトウエアを用いてほげ発電所のほげ率を詳細に計算できる。\n",
      "\n",
      "線量率 hogeソフトウエアを用いてふげん発電所のほげ率を詳細に計算できる。\n",
      "ｄｅｒｓソフトウエア hogeソフトウエアを用いてふげん発電所のほげ率を詳細に計算できる。\n",
      "\n",
      "It was clarified that although Hf/(Hf+Si) ratio did not affect the bandgap, it affected the band offset for nano-laminate.\n"
     ]
    }
   ],
   "source": [
    "import re\n",
    "\n",
    "dic_en = ['\"Fugen Power Plant\"', 'DERS software', 'dose rate']\n",
    "dic_ja = [\"線量率\", \"ＤＥＲＳソフトウエア\",\"「ふげん発電所」\"]\n",
    "dic_en_plus = ['band offset', 'bandgap', 'Hf/(Hf+Si) ratio', 'nano-laminate']\n",
    "out_en = 'Details of doserate of \"Fugen Power Plant\" can be calculated by using DERS software .'\n",
    "out_en_1 = 'Details of hoge fuga of \"Hoge Power Plant\" can be calculated by using FUGA software .'\n",
    "out_en_2 = 'Details of doserate of \"Hoge Power Plant\" can be calculated by using FUGA software .'\n",
    "out_ja = \"ＤＥＲＳソフトウエアを用いて「ふげん発電所」の線量率を詳細に計算できる。\"\n",
    "out_ja_1 = \"HOGEソフトウエアを用いて「ほげ発電所」のほげ率を詳細に計算できる 。\"\n",
    "out_ja_2 = \"HOGEソフトウエアを用いて「ふげん発電所」のほげ率を詳細に計算できる 。\"\n",
    "out_en_plus = \"It was clarified that although Hf/(Hf+Si) ratio did not affect the bandgap, it affected the band offset for nano-laminate.\"\n",
    "\n",
    "def _lowercase(text: str):\n",
    "    return text.lower()\n",
    "\n",
    "def _detokenize(text: str):\n",
    "    return ''.join(text.split(' '))\n",
    "\n",
    "def _remove_punctuation(text: str):\n",
    "    punctuations = r'\\'\"「」\\()（）'\n",
    "    for punc in punctuations:\n",
    "        text = text.replace(punc, '')\n",
    "    return text\n",
    "\n",
    "def _replace_specialchar(w: str):\n",
    "    # HACK: 制約語に「+」が入っている単語の場合、exact matchがうまく動かない => バクスラ退避する\n",
    "    specialchars = '+'\n",
    "    for specialchar in specialchars:\n",
    "        w = w.replace(specialchar, '\\\\' + specialchar)\n",
    "    return w\n",
    "\n",
    "def filter_sentence_with_dic(s: str, dic: list):\n",
    "    orig_s = s\n",
    "    \n",
    "    # Check whether the s(entence) contains all the restricted w(ords)\n",
    "    match_count = 0\n",
    "    for w in dic:\n",
    "        for f in [_lowercase, _detokenize, _remove_punctuation]:\n",
    "            w, s = f(w), f(s)\n",
    "        \n",
    "        w = _replace_specialchar(w)\n",
    "        \n",
    "        if re.search(w, s):\n",
    "            match_count += 1\n",
    "        else:\n",
    "            print(w, s)\n",
    "    \n",
    "    # Filter\n",
    "    if match_count == len(dic):\n",
    "        return orig_s\n",
    "    else:\n",
    "        return ''\n",
    "    \n",
    "def test():\n",
    "    print(filter_sentence_with_dic(out_en, dic_en))\n",
    "    print(filter_sentence_with_dic(out_en_1, dic_en))\n",
    "    print(filter_sentence_with_dic(out_en_2, dic_en))\n",
    "    print(filter_sentence_with_dic(out_ja, dic_ja))\n",
    "    print(filter_sentence_with_dic(out_ja_1, dic_ja))\n",
    "    print(filter_sentence_with_dic(out_ja_2, dic_ja))\n",
    "    \n",
    "    print(filter_sentence_with_dic(out_en_plus, dic_en_plus))\n",
    "\n",
    "test()"
   ]
  },
  {
   "cell_type": "code",
   "execution_count": 56,
   "id": "d1b3506c",
   "metadata": {
    "ExecuteTime": {
     "end_time": "2021-04-18T07:19:35.889094Z",
     "start_time": "2021-04-18T07:19:35.884148Z"
    }
   },
   "outputs": [
    {
     "data": {
      "text/plain": [
       "<re.Match object; span=(26, 39), match='hf/hf+siratio'>"
      ]
     },
     "execution_count": 56,
     "metadata": {},
     "output_type": "execute_result"
    }
   ],
   "source": [
    "pattern = r'hf/hf\\+siratio'\n",
    "re.search(pattern, 'itwasclarifiedthatalthoughhf/hf+siratiodidnotaffectthebandgap,itaffectedthebandoffsetfornano-laminate.')"
   ]
  },
  {
   "cell_type": "code",
   "execution_count": 17,
   "id": "7f51cf6f",
   "metadata": {
    "ExecuteTime": {
     "end_time": "2021-04-18T06:41:00.077570Z",
     "start_time": "2021-04-18T06:40:59.900883Z"
    }
   },
   "outputs": [
    {
     "name": "stdout",
     "output_type": "stream",
     "text": [
      "    1812 ../../data/sample_output.en\r\n"
     ]
    }
   ],
   "source": [
    "!wc -l ../../data/sample_output.en"
   ]
  },
  {
   "cell_type": "code",
   "execution_count": 121,
   "id": "77a4e94a",
   "metadata": {
    "ExecuteTime": {
     "end_time": "2021-04-16T06:45:04.280872Z",
     "start_time": "2021-04-16T06:45:03.813846Z"
    }
   },
   "outputs": [
    {
     "name": "stderr",
     "output_type": "stream",
     "text": [
      "338it [00:00, 3371.88it/s]"
     ]
    },
    {
     "name": "stdout",
     "output_type": "stream",
     "text": [
      "dic length: 1812\n"
     ]
    },
    {
     "name": "stderr",
     "output_type": "stream",
     "text": [
      "1812it [00:00, 4368.05it/s]\n"
     ]
    }
   ],
   "source": [
    "from tqdm import tqdm\n",
    "\n",
    "# TODO: jaの場合、いったんdetokenizeする必要がある\n",
    "gold_dic_path = \"../../data/dic/test.dic.en\"\n",
    "output_path = \"../../data/sample_output.en\"\n",
    "filtered_output_path = \"../../work/filtered_sample_output.en\"\n",
    "\n",
    "def get_dic(file_path: str):\n",
    "    \"\"\"Load dictionary information (get dic_list)\n",
    "    input: file_path(str)\"\"\"\n",
    "    c = []\n",
    "    for l in open(file_path):\n",
    "        l = l.strip()\n",
    "        if l:\n",
    "            c.append(l)\n",
    "        else:\n",
    "            yield c\n",
    "            c = []        \n",
    "    yield c\n",
    "        \n",
    "dic_list = list(get_dic(gold_dic_path))\n",
    "print(f\"dic length: {len(dic_list[:-1])}\")\n",
    "\n",
    "with open(filtered_output_path, 'w') as f_filtered:\n",
    "    # Exact match between dictionary and output \n",
    "    with open(output_path) as f_out:\n",
    "        \n",
    "        # Check file length == dictionary length\n",
    "        sents = [l.strip() for l in f_out]\n",
    "        assert len(sents) == len(dic_list[:-1]), \"not match file length and dictionary length\"\n",
    "        \n",
    "        # Filter out sentences not containing restricted vocab\n",
    "        for sent, dic in tqdm(zip(sents, dic_list[:-1])):\n",
    "            # Debug\n",
    "            # print(dic_en, out_en)\n",
    "            filtered_sent = filter_sentence_with_dic(sent, dic)\n",
    "            f_filtered.write(filtered_sent + '\\n')"
   ]
  },
  {
   "cell_type": "markdown",
   "id": "6926b2a1",
   "metadata": {},
   "source": [
    "### Check"
   ]
  },
  {
   "cell_type": "code",
   "execution_count": 4,
   "id": "c2282104",
   "metadata": {
    "ExecuteTime": {
     "end_time": "2021-04-18T08:26:08.896721Z",
     "start_time": "2021-04-18T08:26:08.839466Z"
    }
   },
   "outputs": [
    {
     "name": "stdout",
     "output_type": "stream",
     "text": [
      "['\"Fugen Power Plant\"', 'DERS software', 'dose rate']\n",
      "Details of dose rate of \"Hoge Power Plant\" can be calculated by using DERS software.\n",
      "['DERS', 'dose rate']\n",
      "Responding to these changes HOGE can compute new dose rate.\n"
     ]
    }
   ],
   "source": [
    "gold_dic_path = \"../../data/dic/test.dic.en\"\n",
    "\n",
    "def get_dic(file_path: str):\n",
    "    \"\"\"Load dictionary information (get dic_list)\n",
    "    input: file_path(str)\"\"\"\n",
    "    c = []\n",
    "    for l in open(file_path):\n",
    "        l = l.strip()\n",
    "        if l:\n",
    "            c.append(l)\n",
    "        else:\n",
    "            yield c\n",
    "            c = []        \n",
    "    yield c\n",
    "        \n",
    "dic_list = list(get_dic(gold_dic_path))\n",
    "\n",
    "with open('../../work/filtered_sample_output.en') as f_filtered_en, \\\n",
    "open('../../data/sample_output.en') as f_en:\n",
    "    for dic, filtered_en_line, en_line in zip(dic_list, f_filtered_en, f_en):\n",
    "        filtered_en_line = filtered_en_line.strip()\n",
    "        en_line = en_line.strip()\n",
    "        \n",
    "        if len(filtered_en_line) == 0:\n",
    "            print(dic)\n",
    "            print(en_line)"
   ]
  },
  {
   "cell_type": "code",
   "execution_count": null,
   "id": "37bcdce2",
   "metadata": {},
   "outputs": [],
   "source": []
  }
 ],
 "metadata": {
  "kernelspec": {
   "display_name": "Python 3",
   "language": "python",
   "name": "python3"
  },
  "language_info": {
   "codemirror_mode": {
    "name": "ipython",
    "version": 3
   },
   "file_extension": ".py",
   "mimetype": "text/x-python",
   "name": "python",
   "nbconvert_exporter": "python",
   "pygments_lexer": "ipython3",
   "version": "3.8.6"
  },
  "toc": {
   "base_numbering": 1,
   "nav_menu": {},
   "number_sections": true,
   "sideBar": true,
   "skip_h1_title": false,
   "title_cell": "Table of Contents",
   "title_sidebar": "Contents",
   "toc_cell": false,
   "toc_position": {},
   "toc_section_display": true,
   "toc_window_display": false
  }
 },
 "nbformat": 4,
 "nbformat_minor": 5
}
